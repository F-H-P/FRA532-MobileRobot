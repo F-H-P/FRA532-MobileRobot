{
 "cells": [
  {
   "cell_type": "code",
   "execution_count": 4,
   "metadata": {},
   "outputs": [],
   "source": [
    "import numpy as np\n",
    "import scipy.stats as stats\n",
    "\n",
    "def f_x(x):\n",
    "    return 1/(1 + np.exp(-x))"
   ]
  },
  {
   "cell_type": "code",
   "execution_count": 5,
   "metadata": {},
   "outputs": [],
   "source": [
    "def distribution(mu=0, sigma=1):\n",
    "    # return probability given a value\n",
    "    distribution = stats.norm(mu, sigma)\n",
    "    return distribution\n",
    "    \n",
    "# pre-setting\n",
    "n = 1000\n",
    "mu_target = 3.5\n",
    "sigma_target = 1\n",
    "mu_appro = 3\n",
    "sigma_appro = 1\n",
    "p_x = distribution(mu_target, sigma_target)\n",
    "q_x = distribution(mu_appro, sigma_appro)"
   ]
  },
  {
   "cell_type": "code",
   "execution_count": 10,
   "metadata": {},
   "outputs": [
    {
     "name": "stdout",
     "output_type": "stream",
     "text": [
      "simulate value 0.9559074461721399\n"
     ]
    }
   ],
   "source": [
    "s = 0\n",
    "for i in range(n):\n",
    "    # draw a sample\n",
    "    x_i = np.random.normal(mu_target, sigma_target)\n",
    "    s += f_x(x_i)\n",
    "print(\"simulate value\", s/n)"
   ]
  },
  {
   "cell_type": "code",
   "execution_count": 7,
   "metadata": {},
   "outputs": [],
   "source": [
    "value_list = []\n",
    "for i in range(n):\n",
    "    # sample from different distribution\n",
    "    x_i = np.random.normal(mu_appro, sigma_appro)\n",
    "    value = f_x(x_i)*(p_x.pdf(x_i) / q_x.pdf(x_i))\n",
    "    \n",
    "    value_list.append(value)"
   ]
  },
  {
   "cell_type": "code",
   "execution_count": 8,
   "metadata": {},
   "outputs": [],
   "source": [
    "# pre-setting\n",
    "n = 5000\n",
    "mu_target = 3.5\n",
    "sigma_target = 1\n",
    "mu_appro = 1\n",
    "sigma_appro = 1\n",
    "p_x = distribution(mu_target, sigma_target)\n",
    "q_x = distribution(mu_appro, sigma_appro)"
   ]
  },
  {
   "cell_type": "code",
   "execution_count": 30,
   "metadata": {},
   "outputs": [
    {
     "name": "stdout",
     "output_type": "stream",
     "text": [
      "(array([5, 7, 8]),) (array([0, 3, 5, 7, 8]),)\n",
      "8\n",
      "[0, 3, 5, 7, 8]\n",
      "[9, 3, 5, 4]\n"
     ]
    }
   ],
   "source": [
    "import numpy as np\n",
    "\n",
    "arr = np.array([2, 9, 7, 2, 3, 4, 5, 4, 4])\n",
    "\n",
    "x = np.where(arr == 4)\n",
    "y = np.where(arr%2 == 0)\n",
    "\n",
    "print(x, y)\n",
    "ref = []\n",
    "length = len(x[0]) + len(y[0])\n",
    "print(length)\n",
    "for i in range(length):\n",
    "    if i < len(x[0]):\n",
    "        ref.append(x[0][i])\n",
    "    else:\n",
    "        ref.append(y[0][length - i - 1])\n",
    "        \n",
    "ref = list(set(ref))\n",
    "arr = arr.tolist()\n",
    "for n, idx in enumerate(ref):\n",
    "    arr.pop(n - idx)\n",
    "\n",
    "print(ref)\n",
    "print(arr)"
   ]
  }
 ],
 "metadata": {
  "kernelspec": {
   "display_name": "Python 3",
   "language": "python",
   "name": "python3"
  },
  "language_info": {
   "codemirror_mode": {
    "name": "ipython",
    "version": 3
   },
   "file_extension": ".py",
   "mimetype": "text/x-python",
   "name": "python",
   "nbconvert_exporter": "python",
   "pygments_lexer": "ipython3",
   "version": "3.10.6"
  },
  "orig_nbformat": 4,
  "vscode": {
   "interpreter": {
    "hash": "916dbcbb3f70747c44a77c7bcd40155683ae19c65e1c03b4aa3499c5328201f1"
   }
  }
 },
 "nbformat": 4,
 "nbformat_minor": 2
}
